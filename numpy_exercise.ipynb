{
  "nbformat": 4,
  "nbformat_minor": 0,
  "metadata": {
    "colab": {
      "provenance": []
    },
    "kernelspec": {
      "name": "python3",
      "display_name": "Python 3"
    },
    "language_info": {
      "name": "python"
    }
  },
  "cells": [
    {
      "cell_type": "code",
      "execution_count": 2,
      "metadata": {
        "colab": {
          "base_uri": "https://localhost:8080/"
        },
        "id": "cIAE4TCSxr86",
        "outputId": "c101f4fc-1749-46b9-fb3d-ac1eceb5a79d"
      },
      "outputs": [
        {
          "output_type": "execute_result",
          "data": {
            "text/plain": [
              "(1, (3,), numpy.ndarray, dtype('int64'), 3)"
            ]
          },
          "metadata": {},
          "execution_count": 2
        }
      ],
      "source": [
        "import numpy as np\n",
        "\n",
        "a1 = np.array([1,2,3])\n",
        "\n",
        "a1.ndim,a1.shape,type(a1),a1.dtype,a1.size"
      ]
    },
    {
      "cell_type": "code",
      "source": [
        "a2=np.array([[1,2,3],\n",
        "             [4,5,6,]])\n",
        "a2.ndim,a2.shape,type(a2),a2.dtype,a2.size"
      ],
      "metadata": {
        "colab": {
          "base_uri": "https://localhost:8080/"
        },
        "id": "ksbq4saMzdLB",
        "outputId": "0ce31219-c79e-4ae7-f6b3-78a8df455cbc"
      },
      "execution_count": 3,
      "outputs": [
        {
          "output_type": "execute_result",
          "data": {
            "text/plain": [
              "(2, (2, 3), numpy.ndarray, dtype('int64'), 6)"
            ]
          },
          "metadata": {},
          "execution_count": 3
        }
      ]
    },
    {
      "cell_type": "code",
      "source": [
        "# a3 =  np.array([[[1,2,3],\n",
        "#                  [4,5,6]]\n",
        "\n",
        "#                 [[1,3,5],\n",
        "#                  [4,2,3]]])\n"
      ],
      "metadata": {
        "id": "aUGRY4ff0CDp"
      },
      "execution_count": 4,
      "outputs": []
    },
    {
      "cell_type": "code",
      "source": [
        "random_arr=np.random.randint(1,10,size=(5))\n",
        "random_arr"
      ],
      "metadata": {
        "colab": {
          "base_uri": "https://localhost:8080/"
        },
        "id": "a-Xu81O51UIk",
        "outputId": "d7b90483-f785-48e9-b357-d72ad0d6647e"
      },
      "execution_count": 5,
      "outputs": [
        {
          "output_type": "execute_result",
          "data": {
            "text/plain": [
              "array([8, 2, 2, 9, 3])"
            ]
          },
          "metadata": {},
          "execution_count": 5
        }
      ]
    },
    {
      "cell_type": "code",
      "source": [
        "a='abc'\n",
        "a[::-1]"
      ],
      "metadata": {
        "colab": {
          "base_uri": "https://localhost:8080/",
          "height": 35
        },
        "id": "pfN2ljlB4B6a",
        "outputId": "0262199b-c9ae-4e60-c687-72584d6b6548"
      },
      "execution_count": 6,
      "outputs": [
        {
          "output_type": "execute_result",
          "data": {
            "text/plain": [
              "'cba'"
            ],
            "application/vnd.google.colaboratory.intrinsic+json": {
              "type": "string"
            }
          },
          "metadata": {},
          "execution_count": 6
        }
      ]
    },
    {
      "cell_type": "code",
      "source": [
        "# import time\n",
        "\n",
        "# start =time.time()\n",
        "# arr=np.arrange(10000000)\n",
        "\n",
        "#broadcasting,vektorization,"
      ],
      "metadata": {
        "id": "v8QHZYFYDDUJ"
      },
      "execution_count": 7,
      "outputs": []
    },
    {
      "cell_type": "code",
      "source": [
        "a2"
      ],
      "metadata": {
        "colab": {
          "base_uri": "https://localhost:8080/"
        },
        "id": "U5pWWS9BGJ54",
        "outputId": "6915ea2c-45b4-41ff-8323-2b99a6cc142d"
      },
      "execution_count": 8,
      "outputs": [
        {
          "output_type": "execute_result",
          "data": {
            "text/plain": [
              "array([[1, 2, 3],\n",
              "       [4, 5, 6]])"
            ]
          },
          "metadata": {},
          "execution_count": 8
        }
      ]
    },
    {
      "cell_type": "code",
      "source": [
        "a2.T"
      ],
      "metadata": {
        "colab": {
          "base_uri": "https://localhost:8080/"
        },
        "id": "VRG-C5_vGSEu",
        "outputId": "71b579a3-b4a7-490d-c459-80ec65d57b4e"
      },
      "execution_count": 9,
      "outputs": [
        {
          "output_type": "execute_result",
          "data": {
            "text/plain": [
              "array([[1, 4],\n",
              "       [2, 5],\n",
              "       [3, 6]])"
            ]
          },
          "metadata": {},
          "execution_count": 9
        }
      ]
    },
    {
      "cell_type": "code",
      "source": [
        "a2.shape,a2.T.shape"
      ],
      "metadata": {
        "colab": {
          "base_uri": "https://localhost:8080/"
        },
        "id": "4odf3FPVHJ_8",
        "outputId": "297b6ee3-c8f8-4100-8023-1a04696f1d7d"
      },
      "execution_count": 10,
      "outputs": [
        {
          "output_type": "execute_result",
          "data": {
            "text/plain": [
              "((2, 3), (3, 2))"
            ]
          },
          "metadata": {},
          "execution_count": 10
        }
      ]
    },
    {
      "cell_type": "code",
      "source": [
        "a2 @ a2.T"
      ],
      "metadata": {
        "colab": {
          "base_uri": "https://localhost:8080/"
        },
        "id": "IFeJ6lZjHQ92",
        "outputId": "f095ec98-6297-43ba-f6d6-776f4ce5b603"
      },
      "execution_count": 11,
      "outputs": [
        {
          "output_type": "execute_result",
          "data": {
            "text/plain": [
              "array([[14, 32],\n",
              "       [32, 77]])"
            ]
          },
          "metadata": {},
          "execution_count": 11
        }
      ]
    },
    {
      "cell_type": "code",
      "source": [
        "np.zeros(shape=[4,6])"
      ],
      "metadata": {
        "colab": {
          "base_uri": "https://localhost:8080/"
        },
        "id": "k4_VDurtHZ9d",
        "outputId": "198e5bf8-e8dc-451a-c5d3-3e1d3a242d54"
      },
      "execution_count": 12,
      "outputs": [
        {
          "output_type": "execute_result",
          "data": {
            "text/plain": [
              "array([[0., 0., 0., 0., 0., 0.],\n",
              "       [0., 0., 0., 0., 0., 0.],\n",
              "       [0., 0., 0., 0., 0., 0.],\n",
              "       [0., 0., 0., 0., 0., 0.]])"
            ]
          },
          "metadata": {},
          "execution_count": 12
        }
      ]
    },
    {
      "cell_type": "code",
      "source": [
        "np.ones(shape=[4,6])"
      ],
      "metadata": {
        "colab": {
          "base_uri": "https://localhost:8080/"
        },
        "id": "tsH8IS6tHgg_",
        "outputId": "86378b63-10d6-4e58-e64e-d817cb75ecd8"
      },
      "execution_count": 13,
      "outputs": [
        {
          "output_type": "execute_result",
          "data": {
            "text/plain": [
              "array([[1., 1., 1., 1., 1., 1.],\n",
              "       [1., 1., 1., 1., 1., 1.],\n",
              "       [1., 1., 1., 1., 1., 1.],\n",
              "       [1., 1., 1., 1., 1., 1.]])"
            ]
          },
          "metadata": {},
          "execution_count": 13
        }
      ]
    },
    {
      "cell_type": "code",
      "source": [
        "np.sum(a2)"
      ],
      "metadata": {
        "colab": {
          "base_uri": "https://localhost:8080/"
        },
        "id": "LOt9NpzkHta1",
        "outputId": "5ed7d921-094a-4580-a067-c2795daf689a"
      },
      "execution_count": 14,
      "outputs": [
        {
          "output_type": "execute_result",
          "data": {
            "text/plain": [
              "21"
            ]
          },
          "metadata": {},
          "execution_count": 14
        }
      ]
    },
    {
      "cell_type": "code",
      "source": [
        "np.argmax(a2)"
      ],
      "metadata": {
        "colab": {
          "base_uri": "https://localhost:8080/"
        },
        "id": "l7hHlaI-H2zy",
        "outputId": "086230fe-7ea2-4fc3-c1c7-eb7fdbf9ec00"
      },
      "execution_count": 15,
      "outputs": [
        {
          "output_type": "execute_result",
          "data": {
            "text/plain": [
              "5"
            ]
          },
          "metadata": {},
          "execution_count": 15
        }
      ]
    },
    {
      "cell_type": "code",
      "source": [
        "np.argmin(a2)"
      ],
      "metadata": {
        "colab": {
          "base_uri": "https://localhost:8080/"
        },
        "id": "ezdSapkoIAim",
        "outputId": "6df48417-1480-4eeb-9aea-64eb3cd2809d"
      },
      "execution_count": 16,
      "outputs": [
        {
          "output_type": "execute_result",
          "data": {
            "text/plain": [
              "0"
            ]
          },
          "metadata": {},
          "execution_count": 16
        }
      ]
    },
    {
      "cell_type": "code",
      "source": [
        "mat3 = np.random.randint(10, size=(4, 4))\n",
        "mat4 = np.random.randint(10, size=(4, 3))"
      ],
      "metadata": {
        "id": "U-ujN1bpf90n"
      },
      "execution_count": 20,
      "outputs": []
    },
    {
      "cell_type": "code",
      "source": [
        "np.dot(mat3, mat4)"
      ],
      "metadata": {
        "colab": {
          "base_uri": "https://localhost:8080/"
        },
        "id": "BaOQY7bOf-2t",
        "outputId": "307ed33b-49bc-4c98-e366-1bc3815f1550"
      },
      "execution_count": 21,
      "outputs": [
        {
          "output_type": "execute_result",
          "data": {
            "text/plain": [
              "array([[ 38,  43,  41],\n",
              "       [ 49, 104,  45],\n",
              "       [ 46,  65,  43],\n",
              "       [ 46, 101,  61]])"
            ]
          },
          "metadata": {},
          "execution_count": 21
        }
      ]
    },
    {
      "cell_type": "code",
      "source": [
        "np.random.random((3, 5))"
      ],
      "metadata": {
        "id": "OtTc18cHZNm5",
        "colab": {
          "base_uri": "https://localhost:8080/"
        },
        "outputId": "d03bd295-75e6-4eea-d764-7e71b2cd45e8"
      },
      "execution_count": 22,
      "outputs": [
        {
          "output_type": "execute_result",
          "data": {
            "text/plain": [
              "array([[0.78954748, 0.68426752, 0.64858114, 0.35470469, 0.5492531 ],\n",
              "       [0.51799023, 0.18595737, 0.37152289, 0.50820594, 0.37523064],\n",
              "       [0.96603947, 0.76573295, 0.92873073, 0.3769002 , 0.48896921]])"
            ]
          },
          "metadata": {},
          "execution_count": 22
        }
      ]
    }
  ]
}